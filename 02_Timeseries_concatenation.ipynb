{
 "cells": [
  {
   "cell_type": "markdown",
   "metadata": {},
   "source": [
    "# Timeseries concatenation #"
   ]
  },
  {
   "cell_type": "markdown",
   "metadata": {},
   "source": [
    "This notebook is used for timeseres concatenation. Concatenation is performed across all subjects and sessions in order to create an $N x P$ array\n",
    ", where $N$ - number of observations (time points), $P$ - number of features (ROIs). This procedure ensures the correspondence of brain states labels across subjects, sessions and runs. Concatenation is performed on data with global signal regression.\n",
    "\n",
    "$N$ (LSD session) - 9114\\\n",
    "$N$(placebo session)- 9114\\\n",
    "$P$ - 400 (Schaefer 2018. atlas parcellation)\n",
    "\n",
    "**Last update:** 29.07.2021"
   ]
  },
  {
   "cell_type": "markdown",
   "metadata": {},
   "source": [
    "### Step 0: Loading libraries ###"
   ]
  },
  {
   "cell_type": "code",
   "execution_count": 1,
   "metadata": {},
   "outputs": [],
   "source": [
    "import numpy as np\n",
    "import pandas as pd"
   ]
  },
  {
   "cell_type": "markdown",
   "metadata": {},
   "source": [
    "### Step 1: Loading data ###"
   ]
  },
  {
   "cell_type": "code",
   "execution_count": 2,
   "metadata": {},
   "outputs": [
    {
     "name": "stdout",
     "output_type": "stream",
     "text": [
      "Placebo session data shape: (15, 3, 400, 217)\n",
      "LSD session data shape: (15, 3, 400, 217)\n"
     ]
    }
   ],
   "source": [
    "#Loading data\n",
    "data = np.load('/home/iga/BrainStates/ds003059/Schaefer_2018_cleaned_standardized_timeseries.npy', allow_pickle = True).item()\n",
    "\n",
    "\n",
    "#Splitting timeseries based on sessions\n",
    "timeseries_plcb = data['sessions']['PLCB']['timeseries']\n",
    "timeseries_lsd = data['sessions']['LSD']['timeseries']\n",
    "\n",
    "#Printing shape of both data\n",
    "print(f'Placebo session data shape: {timeseries_plcb.shape}')\n",
    "print(f'LSD session data shape: {timeseries_lsd.shape}')"
   ]
  },
  {
   "cell_type": "markdown",
   "metadata": {},
   "source": [
    "### Step 2: Selecting the data ###"
   ]
  },
  {
   "cell_type": "code",
   "execution_count": 3,
   "metadata": {},
   "outputs": [],
   "source": [
    "#Creating subjects' filter\n",
    "sub_filter = [True,True,False,True,True,True,True,True,False,True,False,True,True,True,True]\n",
    "\n",
    "#Getting placebo data for each run\n",
    "plcb_run1 = timeseries_plcb[:,0,:,:]\n",
    "plcb_run2 = timeseries_plcb[:,1,:,:]\n",
    "plcb_run2 = plcb_run2[sub_filter]\n",
    "plcb_run3 = timeseries_plcb[:,2,:,:]\n",
    "\n",
    "#Getting LSD data for each run\n",
    "lsd_run1 = timeseries_lsd[:,0,:,:]\n",
    "lsd_run2 = timeseries_lsd[:,1,:,:]\n",
    "lsd_run2 = lsd_run2[sub_filter]\n",
    "lsd_run3 = timeseries_lsd[:,2,:,:]"
   ]
  },
  {
   "cell_type": "markdown",
   "metadata": {},
   "source": [
    "### Step 3: Concatenating data - version 2 ###"
   ]
  },
  {
   "cell_type": "code",
   "execution_count": 7,
   "metadata": {},
   "outputs": [
    {
     "name": "stdout",
     "output_type": "stream",
     "text": [
      "(9114, 400) (9114, 400)\n"
     ]
    }
   ],
   "source": [
    "plcb_con_1 = np.concatenate((plcb_run1, plcb_run2, plcb_run3))\n",
    "plcb_con = np.concatenate(plcb_con_1,axis=1).T\n",
    "\n",
    "lsd_con_1 = np.concatenate((lsd_run1, lsd_run2, lsd_run3))\n",
    "lsd_con = np.concatenate(lsd_con_1,axis=1).T\n",
    "\n",
    "print(plcb_con.shape, lsd_con.shape)"
   ]
  },
  {
   "cell_type": "markdown",
   "metadata": {},
   "source": [
    "### Step 4: Updating dictionary ###"
   ]
  },
  {
   "cell_type": "code",
   "execution_count": 8,
   "metadata": {},
   "outputs": [],
   "source": [
    "concat_timeseries = data.copy()\n",
    "concat_timeseries['sessions']['PLCB']['timeseries'] = plcb_concat\n",
    "concat_timeseries['sessions']['LSD']['timeseries'] = lsd_concat\n",
    "\n",
    "#Saving the data\n",
    "filename = 'Schaefer_2018_cleaned_standardized_timeseries'\n",
    "np.save(f\"concat_{filename}.npy\", concat_timeseries)\n",
    "\n",
    "concat_timeseries_1 = data.copy()\n",
    "concat_timeseries_1['sessions']['PLCB']['timeseries'] = plcb_con\n",
    "concat_timeseries_1['sessions']['LSD']['timeseries'] = lsd_con\n",
    "\n",
    "#Saving the data\n",
    "filename = 'Schaefer_2018_cleaned_standardized_timeseries'\n",
    "np.save(f\"fixed_concat_{filename}.npy\", concat_timeseries_1)"
   ]
  }
 ],
 "metadata": {
  "kernelspec": {
   "display_name": "Python 3 (ipykernel)",
   "language": "python",
   "name": "python3"
  },
  "language_info": {
   "codemirror_mode": {
    "name": "ipython",
    "version": 3
   },
   "file_extension": ".py",
   "mimetype": "text/x-python",
   "name": "python",
   "nbconvert_exporter": "python",
   "pygments_lexer": "ipython3",
   "version": "3.9.5"
  }
 },
 "nbformat": 4,
 "nbformat_minor": 4
}
