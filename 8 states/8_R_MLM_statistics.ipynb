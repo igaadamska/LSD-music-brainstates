{
 "cells": [
  {
   "cell_type": "markdown",
   "id": "df5cf30c-20da-430a-b5f0-34b991a3f077",
   "metadata": {},
   "source": [
    "# MLM statistics + visualization #"
   ]
  },
  {
   "cell_type": "markdown",
   "id": "5e9dceed-1670-4d63-86ee-d25696b4b78c",
   "metadata": {},
   "source": [
    "This notebook is used for multilevel linear analysis for fractional occupancy and dwell time for each state. \n",
    "\n",
    "Number of states: 8\n",
    "\n",
    "**Last update:** 12.08.2022"
   ]
  },
  {
   "cell_type": "markdown",
   "id": "9211b9b9-fe80-4320-a52a-ac527e97e8b8",
   "metadata": {},
   "source": [
    "### Step 1: Loading libraries ###"
   ]
  },
  {
   "cell_type": "code",
   "execution_count": 1,
   "id": "3990712f-c1bb-4af9-abbc-f56ca24ed0d4",
   "metadata": {},
   "outputs": [
    {
     "name": "stderr",
     "output_type": "stream",
     "text": [
      "\n",
      "Attaching package: ‘dplyr’\n",
      "\n",
      "\n",
      "The following objects are masked from ‘package:stats’:\n",
      "\n",
      "    filter, lag\n",
      "\n",
      "\n",
      "The following objects are masked from ‘package:base’:\n",
      "\n",
      "    intersect, setdiff, setequal, union\n",
      "\n",
      "\n",
      "Loading required package: Matrix\n",
      "\n",
      "\n",
      "Attaching package: ‘lmerTest’\n",
      "\n",
      "\n",
      "The following object is masked from ‘package:lme4’:\n",
      "\n",
      "    lmer\n",
      "\n",
      "\n",
      "The following object is masked from ‘package:stats’:\n",
      "\n",
      "    step\n",
      "\n",
      "\n"
     ]
    }
   ],
   "source": [
    "#Loading libraries\n",
    "library(readr)\n",
    "library(magrittr)\n",
    "library(dplyr)\n",
    "library(lme4)\n",
    "library(lmerTest)\n",
    "library(emmeans)\n",
    "library(sjPlot)\n",
    "library(sjmisc)\n",
    "library(ggplot2)\n",
    "library(RColorBrewer)\n",
    "library(pbkrtest)"
   ]
  },
  {
   "cell_type": "markdown",
   "id": "25a7ee4c-d2f4-4f6a-9a34-859cc3838b2a",
   "metadata": {},
   "source": [
    "### Step 1: Loading data ###"
   ]
  },
  {
   "cell_type": "code",
   "execution_count": 2,
   "id": "78b81215-f528-4665-b16a-6e7ba2386fe2",
   "metadata": {},
   "outputs": [],
   "source": [
    "#Loading csv data\n",
    "data <- read_csv(\"data/8_states/8_df_merge.csv\", show_col_types = FALSE)\n",
    "\n",
    "#Changing the names of columns\n",
    "colnames(data)[5] <- \"FO\"\n",
    "colnames(data)[6] <- \"DT\"\n",
    "\n",
    "#Loading data as categorical\n",
    "data$Subject <- as.factor(data$Subject)\n",
    "data$Session <- as.factor(data$Session)\n",
    "data$Run <- as.factor(data$Run)\n",
    "data$State <- as.factor(data$State)"
   ]
  },
  {
   "cell_type": "code",
   "execution_count": 6,
   "id": "6007317d-dcb5-4c97-840b-d5c9d32e0177",
   "metadata": {},
   "outputs": [
    {
     "data": {
      "text/html": [
       "<table class=\"dataframe\">\n",
       "<caption>A tibble: 6 × 6</caption>\n",
       "<thead>\n",
       "\t<tr><th scope=col>Subject</th><th scope=col>Session</th><th scope=col>Run</th><th scope=col>State</th><th scope=col>FO</th><th scope=col>DT</th></tr>\n",
       "\t<tr><th scope=col>&lt;fct&gt;</th><th scope=col>&lt;fct&gt;</th><th scope=col>&lt;fct&gt;</th><th scope=col>&lt;fct&gt;</th><th scope=col>&lt;dbl&gt;</th><th scope=col>&lt;dbl&gt;</th></tr>\n",
       "</thead>\n",
       "<tbody>\n",
       "\t<tr><td>0</td><td>PLCB</td><td>1</td><td>1</td><td>16.589862</td><td>5.142857</td></tr>\n",
       "\t<tr><td>0</td><td>PLCB</td><td>1</td><td>2</td><td> 9.677419</td><td>4.666667</td></tr>\n",
       "\t<tr><td>0</td><td>PLCB</td><td>1</td><td>3</td><td>15.207373</td><td>5.500000</td></tr>\n",
       "\t<tr><td>0</td><td>PLCB</td><td>1</td><td>4</td><td> 8.294931</td><td>5.142857</td></tr>\n",
       "\t<tr><td>0</td><td>PLCB</td><td>1</td><td>5</td><td>11.981567</td><td>5.777778</td></tr>\n",
       "\t<tr><td>0</td><td>PLCB</td><td>1</td><td>6</td><td>13.824885</td><td>6.000000</td></tr>\n",
       "</tbody>\n",
       "</table>\n"
      ],
      "text/latex": [
       "A tibble: 6 × 6\n",
       "\\begin{tabular}{llllll}\n",
       " Subject & Session & Run & State & FO & DT\\\\\n",
       " <fct> & <fct> & <fct> & <fct> & <dbl> & <dbl>\\\\\n",
       "\\hline\n",
       "\t 0 & PLCB & 1 & 1 & 16.589862 & 5.142857\\\\\n",
       "\t 0 & PLCB & 1 & 2 &  9.677419 & 4.666667\\\\\n",
       "\t 0 & PLCB & 1 & 3 & 15.207373 & 5.500000\\\\\n",
       "\t 0 & PLCB & 1 & 4 &  8.294931 & 5.142857\\\\\n",
       "\t 0 & PLCB & 1 & 5 & 11.981567 & 5.777778\\\\\n",
       "\t 0 & PLCB & 1 & 6 & 13.824885 & 6.000000\\\\\n",
       "\\end{tabular}\n"
      ],
      "text/markdown": [
       "\n",
       "A tibble: 6 × 6\n",
       "\n",
       "| Subject &lt;fct&gt; | Session &lt;fct&gt; | Run &lt;fct&gt; | State &lt;fct&gt; | FO &lt;dbl&gt; | DT &lt;dbl&gt; |\n",
       "|---|---|---|---|---|---|\n",
       "| 0 | PLCB | 1 | 1 | 16.589862 | 5.142857 |\n",
       "| 0 | PLCB | 1 | 2 |  9.677419 | 4.666667 |\n",
       "| 0 | PLCB | 1 | 3 | 15.207373 | 5.500000 |\n",
       "| 0 | PLCB | 1 | 4 |  8.294931 | 5.142857 |\n",
       "| 0 | PLCB | 1 | 5 | 11.981567 | 5.777778 |\n",
       "| 0 | PLCB | 1 | 6 | 13.824885 | 6.000000 |\n",
       "\n"
      ],
      "text/plain": [
       "  Subject Session Run State FO        DT      \n",
       "1 0       PLCB    1   1     16.589862 5.142857\n",
       "2 0       PLCB    1   2      9.677419 4.666667\n",
       "3 0       PLCB    1   3     15.207373 5.500000\n",
       "4 0       PLCB    1   4      8.294931 5.142857\n",
       "5 0       PLCB    1   5     11.981567 5.777778\n",
       "6 0       PLCB    1   6     13.824885 6.000000"
      ]
     },
     "metadata": {},
     "output_type": "display_data"
    }
   ],
   "source": [
    "#Printing data\n",
    "head(data)"
   ]
  },
  {
   "cell_type": "markdown",
   "id": "6c364628-977e-45b3-8fbe-c8512447e916",
   "metadata": {},
   "source": [
    "--------------------------"
   ]
  },
  {
   "cell_type": "markdown",
   "id": "1c9e944f-87f8-4fea-ba40-39a18164e4e9",
   "metadata": {},
   "source": [
    "### **Resting-state vs. music listening** ###"
   ]
  },
  {
   "cell_type": "code",
   "execution_count": 7,
   "id": "f6fdba2f-9b10-4c0e-b96e-585fd691e4ce",
   "metadata": {},
   "outputs": [],
   "source": [
    "#Selecting data from run 1 & 2\n",
    "s8_data_run12 <- filter(data, Run != 3)"
   ]
  },
  {
   "cell_type": "markdown",
   "id": "921661c0-e3f6-4f71-8e0f-52c8b56d3118",
   "metadata": {},
   "source": [
    "### Step 2: Performing analysis for fractional occupancy ###"
   ]
  },
  {
   "cell_type": "code",
   "execution_count": 31,
   "id": "1a70a7aa-e9f2-4b9a-b9f6-a50333be7663",
   "metadata": {},
   "outputs": [
    {
     "name": "stdout",
     "output_type": "stream",
     "text": [
      "[1] \"MLM for state: 1\"\n"
     ]
    },
    {
     "name": "stderr",
     "output_type": "stream",
     "text": [
      "boundary (singular) fit: see help('isSingular')\n",
      "\n"
     ]
    },
    {
     "name": "stdout",
     "output_type": "stream",
     "text": [
      "Type III Analysis of Variance Table with Satterthwaite's method\n",
      "             Sum Sq Mean Sq NumDF  DenDF F value Pr(>F)\n",
      "Run          5.7005  5.7005     1 12.365  1.0417 0.3270\n",
      "Session     15.2267 15.2267     1 13.773  2.7824 0.1179\n",
      "Run:Session  1.0277  1.0277     1 25.828  0.1878 0.6684\n",
      "[1] \"MLM for state: 2\"\n"
     ]
    },
    {
     "name": "stderr",
     "output_type": "stream",
     "text": [
      "boundary (singular) fit: see help('isSingular')\n",
      "\n"
     ]
    },
    {
     "name": "stdout",
     "output_type": "stream",
     "text": [
      "Type III Analysis of Variance Table with Satterthwaite's method\n",
      "             Sum Sq Mean Sq NumDF  DenDF F value   Pr(>F)   \n",
      "Run           1.765   1.765     1 14.023  0.1796 0.678134   \n",
      "Session     130.830 130.830     1 28.575 13.3151 0.001045 **\n",
      "Run:Session   2.254   2.254     1 25.383  0.2294 0.636077   \n",
      "---\n",
      "Signif. codes:  0 ‘***’ 0.001 ‘**’ 0.01 ‘*’ 0.05 ‘.’ 0.1 ‘ ’ 1\n",
      "[1] \"MLM for state: 3\"\n"
     ]
    },
    {
     "name": "stderr",
     "output_type": "stream",
     "text": [
      "boundary (singular) fit: see help('isSingular')\n",
      "\n"
     ]
    },
    {
     "name": "stdout",
     "output_type": "stream",
     "text": [
      "Type III Analysis of Variance Table with Satterthwaite's method\n",
      "             Sum Sq Mean Sq NumDF  DenDF F value  Pr(>F)  \n",
      "Run          4.5457  4.5457     1 11.504  0.8185 0.38417  \n",
      "Session     28.6798 28.6798     1 15.267  5.1643 0.03792 *\n",
      "Run:Session  1.0685  1.0685     1 24.958  0.1924 0.66470  \n",
      "---\n",
      "Signif. codes:  0 ‘***’ 0.001 ‘**’ 0.01 ‘*’ 0.05 ‘.’ 0.1 ‘ ’ 1\n",
      "[1] \"MLM for state: 4\"\n"
     ]
    },
    {
     "name": "stderr",
     "output_type": "stream",
     "text": [
      "boundary (singular) fit: see help('isSingular')\n",
      "\n"
     ]
    },
    {
     "name": "stdout",
     "output_type": "stream",
     "text": [
      "Type III Analysis of Variance Table with Satterthwaite's method\n",
      "             Sum Sq Mean Sq NumDF  DenDF F value  Pr(>F)  \n",
      "Run         26.6261 26.6261     1 12.696  4.5933 0.05208 .\n",
      "Session     27.5862 27.5862     1 20.428  4.7590 0.04099 *\n",
      "Run:Session  0.4238  0.4238     1 23.869  0.0731 0.78920  \n",
      "---\n",
      "Signif. codes:  0 ‘***’ 0.001 ‘**’ 0.01 ‘*’ 0.05 ‘.’ 0.1 ‘ ’ 1\n",
      "[1] \"MLM for state: 5\"\n"
     ]
    },
    {
     "name": "stderr",
     "output_type": "stream",
     "text": [
      "boundary (singular) fit: see help('isSingular')\n",
      "\n"
     ]
    },
    {
     "name": "stdout",
     "output_type": "stream",
     "text": [
      "Type III Analysis of Variance Table with Satterthwaite's method\n",
      "             Sum Sq Mean Sq NumDF  DenDF F value Pr(>F)\n",
      "Run         13.8036 13.8036     1 16.378  1.4343 0.2481\n",
      "Session      0.1173  0.1173     1 21.128  0.0122 0.9131\n",
      "Run:Session  0.6597  0.6597     1 24.732  0.0685 0.7956\n",
      "[1] \"MLM for state: 6\"\n"
     ]
    },
    {
     "name": "stderr",
     "output_type": "stream",
     "text": [
      "boundary (singular) fit: see help('isSingular')\n",
      "\n"
     ]
    },
    {
     "name": "stdout",
     "output_type": "stream",
     "text": [
      "Type III Analysis of Variance Table with Satterthwaite's method\n",
      "            Sum Sq Mean Sq NumDF  DenDF F value   Pr(>F)   \n",
      "Run          51.48   51.48     1 38.469  6.3466 0.016031 * \n",
      "Session     103.20  103.20     1 31.382 12.7231 0.001183 **\n",
      "Run:Session   6.35    6.35     1 36.393  0.7828 0.382100   \n",
      "---\n",
      "Signif. codes:  0 ‘***’ 0.001 ‘**’ 0.01 ‘*’ 0.05 ‘.’ 0.1 ‘ ’ 1\n",
      "[1] \"MLM for state: 7\"\n"
     ]
    },
    {
     "name": "stderr",
     "output_type": "stream",
     "text": [
      "boundary (singular) fit: see help('isSingular')\n",
      "\n"
     ]
    },
    {
     "name": "stdout",
     "output_type": "stream",
     "text": [
      "Type III Analysis of Variance Table with Satterthwaite's method\n",
      "             Sum Sq Mean Sq NumDF  DenDF F value  Pr(>F)  \n",
      "Run         11.3073 11.3073     1 25.143  1.7464 0.19823  \n",
      "Session     21.2419 21.2419     1 13.091  3.2807 0.09309 .\n",
      "Run:Session  2.5336  2.5336     1 24.850  0.3913 0.53732  \n",
      "---\n",
      "Signif. codes:  0 ‘***’ 0.001 ‘**’ 0.01 ‘*’ 0.05 ‘.’ 0.1 ‘ ’ 1\n",
      "[1] \"MLM for state: 8\"\n"
     ]
    },
    {
     "name": "stderr",
     "output_type": "stream",
     "text": [
      "boundary (singular) fit: see help('isSingular')\n",
      "\n"
     ]
    },
    {
     "name": "stdout",
     "output_type": "stream",
     "text": [
      "Type III Analysis of Variance Table with Satterthwaite's method\n",
      "            Sum Sq Mean Sq NumDF  DenDF F value    Pr(>F)    \n",
      "Run          0.071   0.071     1 12.698  0.0163 0.9004492    \n",
      "Session     77.742  77.742     1 14.391 17.7926 0.0008118 ***\n",
      "Run:Session  2.094   2.094     1 24.250  0.4793 0.4953096    \n",
      "---\n",
      "Signif. codes:  0 ‘***’ 0.001 ‘**’ 0.01 ‘*’ 0.05 ‘.’ 0.1 ‘ ’ 1\n"
     ]
    }
   ],
   "source": [
    "#Iterating over states\n",
    "\n",
    "for (i in 1:8) {\n",
    "    \n",
    "    s8_data_fo_state <- filter(s8_data_run12, State == i)\n",
    "    \n",
    "    print(paste(\"MLM for state:\", i))\n",
    "    s8_m_fo <- lmer(FO ~ Run*Session + (1 + Run + Session|Subject), data=s8_data_fo_state) #performing MLM analysis\n",
    "    s8_stats_fo <- anova(s8_m_fo)\n",
    "    print(s8_stats_fo)\n",
    "    \n",
    "    }"
   ]
  },
  {
   "cell_type": "markdown",
   "id": "bcabfc19-7bb6-43a1-a0e5-13f3baa07f55",
   "metadata": {},
   "source": [
    "### Post-hoc tests ###"
   ]
  },
  {
   "cell_type": "code",
   "execution_count": 18,
   "id": "019bd1f1-9fa3-42fa-a9b9-6994453dec72",
   "metadata": {},
   "outputs": [
    {
     "name": "stderr",
     "output_type": "stream",
     "text": [
      "NOTE: Results may be misleading due to involvement in interactions\n",
      "\n"
     ]
    },
    {
     "data": {
      "text/plain": [
       " Session emmean    SE   df lower.CL upper.CL\n",
       " LSD       15.0 0.732 13.1     13.4     16.6\n",
       " PLCB      11.8 0.787 13.2     10.1     13.5\n",
       "\n",
       "Results are averaged over the levels of: Run \n",
       "Degrees-of-freedom method: kenward-roger \n",
       "Confidence level used: 0.95 "
      ]
     },
     "metadata": {},
     "output_type": "display_data"
    },
    {
     "data": {
      "text/plain": [
       " contrast   estimate    SE   df t.ratio p.value\n",
       " LSD - PLCB     3.15 0.876 13.2   3.598  0.0032\n",
       "\n",
       "Results are averaged over the levels of: Run \n",
       "Degrees-of-freedom method: kenward-roger "
      ]
     },
     "metadata": {},
     "output_type": "display_data"
    }
   ],
   "source": [
    "#Post-hoc for state 2\n",
    "em_fo = emmeans(s8_m_fo, specs = pairwise ~ Session)\n",
    "em_fo$emmeans\n",
    "em_fo$contrasts"
   ]
  },
  {
   "cell_type": "code",
   "execution_count": 20,
   "id": "b0693fc9-59eb-43cb-b628-2c6646d70780",
   "metadata": {},
   "outputs": [
    {
     "name": "stderr",
     "output_type": "stream",
     "text": [
      "NOTE: Results may be misleading due to involvement in interactions\n",
      "\n"
     ]
    },
    {
     "data": {
      "text/plain": [
       " Session emmean    SE   df lower.CL upper.CL\n",
       " LSD         15 0.881 13.8     13.1     16.8\n",
       " PLCB        13 0.520 13.3     11.9     14.1\n",
       "\n",
       "Results are averaged over the levels of: Run \n",
       "Degrees-of-freedom method: kenward-roger \n",
       "Confidence level used: 0.95 "
      ]
     },
     "metadata": {},
     "output_type": "display_data"
    },
    {
     "data": {
      "text/plain": [
       " contrast   estimate    SE   df t.ratio p.value\n",
       " LSD - PLCB     1.98 0.877 13.7   2.253  0.0412\n",
       "\n",
       "Results are averaged over the levels of: Run \n",
       "Degrees-of-freedom method: kenward-roger "
      ]
     },
     "metadata": {},
     "output_type": "display_data"
    }
   ],
   "source": [
    "#Post-hoc for state 3\n",
    "em_fo = emmeans(s8_m_fo, specs = pairwise ~ Session)\n",
    "em_fo$emmeans\n",
    "em_fo$contrasts"
   ]
  },
  {
   "cell_type": "code",
   "execution_count": 22,
   "id": "6b97c404-7107-4c61-b464-a0d2a0b3d554",
   "metadata": {},
   "outputs": [
    {
     "name": "stderr",
     "output_type": "stream",
     "text": [
      "NOTE: Results may be misleading due to involvement in interactions\n",
      "\n"
     ]
    },
    {
     "data": {
      "text/plain": [
       " Session emmean    SE   df lower.CL upper.CL\n",
       " LSD       9.48 0.691 13.2     7.99     11.0\n",
       " PLCB     11.02 0.742 13.1     9.42     12.6\n",
       "\n",
       "Results are averaged over the levels of: Run \n",
       "Degrees-of-freedom method: kenward-roger \n",
       "Confidence level used: 0.95 "
      ]
     },
     "metadata": {},
     "output_type": "display_data"
    },
    {
     "data": {
      "text/plain": [
       " contrast   estimate    SE   df t.ratio p.value\n",
       " LSD - PLCB    -1.54 0.716 13.3  -2.153  0.0502\n",
       "\n",
       "Results are averaged over the levels of: Run \n",
       "Degrees-of-freedom method: kenward-roger "
      ]
     },
     "metadata": {},
     "output_type": "display_data"
    }
   ],
   "source": [
    "#Post-hoc for state 4\n",
    "em_fo = emmeans(s8_m_fo, specs = pairwise ~ Session)\n",
    "em_fo$emmeans\n",
    "em_fo$contrasts"
   ]
  },
  {
   "cell_type": "code",
   "execution_count": 30,
   "id": "f5835b80-3b1f-4bef-a77e-3daa1c8ffdf9",
   "metadata": {},
   "outputs": [
    {
     "name": "stderr",
     "output_type": "stream",
     "text": [
      "NOTE: Results may be misleading due to involvement in interactions\n",
      "\n"
     ]
    },
    {
     "data": {
      "text/plain": [
       " Session emmean    SE   df lower.CL upper.CL\n",
       " LSD       9.94 0.669 13.3      8.5     11.4\n",
       " PLCB     12.79 0.595 13.1     11.5     14.1\n",
       "\n",
       "Results are averaged over the levels of: Run \n",
       "Degrees-of-freedom method: kenward-roger \n",
       "Confidence level used: 0.95 "
      ]
     },
     "metadata": {},
     "output_type": "display_data"
    },
    {
     "data": {
      "text/plain": [
       " contrast   estimate    SE   df t.ratio p.value\n",
       " LSD - PLCB    -2.84 0.808 13.2  -3.518  0.0037\n",
       "\n",
       "Results are averaged over the levels of: Run \n",
       "Degrees-of-freedom method: kenward-roger "
      ]
     },
     "metadata": {},
     "output_type": "display_data"
    },
    {
     "name": "stderr",
     "output_type": "stream",
     "text": [
      "NOTE: Results may be misleading due to involvement in interactions\n",
      "\n"
     ]
    },
    {
     "data": {
      "text/plain": [
       " Run emmean    SE   df lower.CL upper.CL\n",
       " 1     10.4 0.613 14.0     9.05     11.7\n",
       " 2     12.4 0.651 11.2    10.93     13.8\n",
       "\n",
       "Results are averaged over the levels of: Session \n",
       "Degrees-of-freedom method: kenward-roger \n",
       "Confidence level used: 0.95 "
      ]
     },
     "metadata": {},
     "output_type": "display_data"
    },
    {
     "data": {
      "text/plain": [
       " contrast    estimate    SE   df t.ratio p.value\n",
       " Run1 - Run2    -1.99 0.805 12.6  -2.478  0.0283\n",
       "\n",
       "Results are averaged over the levels of: Session \n",
       "Degrees-of-freedom method: kenward-roger "
      ]
     },
     "metadata": {},
     "output_type": "display_data"
    }
   ],
   "source": [
    "#Post-hoc for state 6\n",
    "em_fo = emmeans(s8_m_fo, specs = pairwise ~ Session)\n",
    "em_fo$emmeans\n",
    "em_fo$contrasts\n",
    "\n",
    "em_fo = emmeans(s8_m_fo, specs = pairwise ~ Run)\n",
    "em_fo$emmeans\n",
    "em_fo$contrasts"
   ]
  },
  {
   "cell_type": "code",
   "execution_count": 32,
   "id": "fa9912bb-48d1-4eec-97fd-4cc338c47f11",
   "metadata": {},
   "outputs": [
    {
     "name": "stderr",
     "output_type": "stream",
     "text": [
      "NOTE: Results may be misleading due to involvement in interactions\n",
      "\n"
     ]
    },
    {
     "data": {
      "text/plain": [
       " Session emmean    SE   df lower.CL upper.CL\n",
       " LSD       9.66 0.551 13.3     8.47     10.8\n",
       " PLCB     13.29 0.506 13.2    12.20     14.4\n",
       "\n",
       "Results are averaged over the levels of: Run \n",
       "Degrees-of-freedom method: kenward-roger \n",
       "Confidence level used: 0.95 "
      ]
     },
     "metadata": {},
     "output_type": "display_data"
    },
    {
     "data": {
      "text/plain": [
       " contrast   estimate    SE   df t.ratio p.value\n",
       " LSD - PLCB    -3.63 0.867 13.8  -4.190  0.0009\n",
       "\n",
       "Results are averaged over the levels of: Run \n",
       "Degrees-of-freedom method: kenward-roger "
      ]
     },
     "metadata": {},
     "output_type": "display_data"
    }
   ],
   "source": [
    "#Post-hoc for state 8\n",
    "em_fo = emmeans(s8_m_fo, specs = pairwise ~ Session)\n",
    "em_fo$emmeans\n",
    "em_fo$contrasts"
   ]
  },
  {
   "cell_type": "markdown",
   "id": "7ba1a109-b85f-435a-878d-864dc2d32b9c",
   "metadata": {},
   "source": [
    "### Step 3: Performing analysis for dwell time ###"
   ]
  },
  {
   "cell_type": "code",
   "execution_count": 53,
   "id": "cdae68e5-df08-4bfc-89ab-acfbf0f711d0",
   "metadata": {},
   "outputs": [
    {
     "name": "stdout",
     "output_type": "stream",
     "text": [
      "[1] \"MLM for state: 1\"\n"
     ]
    },
    {
     "name": "stderr",
     "output_type": "stream",
     "text": [
      "boundary (singular) fit: see help('isSingular')\n",
      "\n"
     ]
    },
    {
     "name": "stdout",
     "output_type": "stream",
     "text": [
      "Type III Analysis of Variance Table with Satterthwaite's method\n",
      "             Sum Sq Mean Sq NumDF  DenDF F value Pr(>F)\n",
      "Run         1.50689 1.50689     1 13.708  2.3796 0.1457\n",
      "Session     0.16172 0.16172     1 14.437  0.2554 0.6209\n",
      "Run:Session 0.07327 0.07327     1 28.098  0.1157 0.7363\n",
      "[1] \"MLM for state: 2\"\n"
     ]
    },
    {
     "name": "stderr",
     "output_type": "stream",
     "text": [
      "boundary (singular) fit: see help('isSingular')\n",
      "\n",
      "Warning message:\n",
      "“Model failed to converge with 1 negative eigenvalue: -9.3e+00”\n"
     ]
    },
    {
     "name": "stdout",
     "output_type": "stream",
     "text": [
      "Type III Analysis of Variance Table with Satterthwaite's method\n",
      "            Sum Sq Mean Sq NumDF  DenDF F value   Pr(>F)   \n",
      "Run         0.0627  0.0627     1 20.131  0.0835 0.775541   \n",
      "Session     6.6386  6.6386     1 33.042  8.8489 0.005446 **\n",
      "Run:Session 0.0065  0.0065     1 38.864  0.0086 0.926450   \n",
      "---\n",
      "Signif. codes:  0 ‘***’ 0.001 ‘**’ 0.01 ‘*’ 0.05 ‘.’ 0.1 ‘ ’ 1\n",
      "[1] \"MLM for state: 3\"\n"
     ]
    },
    {
     "name": "stderr",
     "output_type": "stream",
     "text": [
      "boundary (singular) fit: see help('isSingular')\n",
      "\n"
     ]
    },
    {
     "name": "stdout",
     "output_type": "stream",
     "text": [
      "Type III Analysis of Variance Table with Satterthwaite's method\n",
      "             Sum Sq Mean Sq NumDF  DenDF F value Pr(>F)\n",
      "Run         0.20377 0.20377     1 20.767  0.3028 0.5880\n",
      "Session     1.26313 1.26313     1 16.566  1.8771 0.1889\n",
      "Run:Session 0.10992 0.10992     1 36.441  0.1633 0.6885\n",
      "[1] \"MLM for state: 4\"\n"
     ]
    },
    {
     "name": "stderr",
     "output_type": "stream",
     "text": [
      "boundary (singular) fit: see help('isSingular')\n",
      "\n"
     ]
    },
    {
     "name": "stdout",
     "output_type": "stream",
     "text": [
      "Type III Analysis of Variance Table with Satterthwaite's method\n",
      "            Sum Sq Mean Sq NumDF  DenDF F value  Pr(>F)  \n",
      "Run         0.8712  0.8712     1 14.320  1.1651 0.29827  \n",
      "Session     0.0490  0.0490     1 17.090  0.0656 0.80098  \n",
      "Run:Session 3.1958  3.1958     1 26.015  4.2736 0.04879 *\n",
      "---\n",
      "Signif. codes:  0 ‘***’ 0.001 ‘**’ 0.01 ‘*’ 0.05 ‘.’ 0.1 ‘ ’ 1\n",
      "[1] \"MLM for state: 5\"\n"
     ]
    },
    {
     "name": "stderr",
     "output_type": "stream",
     "text": [
      "boundary (singular) fit: see help('isSingular')\n",
      "\n"
     ]
    },
    {
     "name": "stdout",
     "output_type": "stream",
     "text": [
      "Type III Analysis of Variance Table with Satterthwaite's method\n",
      "             Sum Sq Mean Sq NumDF  DenDF F value Pr(>F)\n",
      "Run         0.25440 0.25440     1 15.210  0.3834 0.5449\n",
      "Session     0.03606 0.03606     1 14.075  0.0543 0.8190\n",
      "Run:Session 0.18499 0.18499     1 38.776  0.2788 0.6005\n",
      "[1] \"MLM for state: 6\"\n"
     ]
    },
    {
     "name": "stderr",
     "output_type": "stream",
     "text": [
      "boundary (singular) fit: see help('isSingular')\n",
      "\n"
     ]
    },
    {
     "name": "stdout",
     "output_type": "stream",
     "text": [
      "Type III Analysis of Variance Table with Satterthwaite's method\n",
      "             Sum Sq Mean Sq NumDF  DenDF F value Pr(>F)\n",
      "Run         0.06325 0.06325     1 15.427  0.0973 0.7593\n",
      "Session     1.21134 1.21134     1 30.138  1.8636 0.1823\n",
      "Run:Session 0.05692 0.05692     1 36.231  0.0876 0.7690\n",
      "[1] \"MLM for state: 7\"\n",
      "Type III Analysis of Variance Table with Satterthwaite's method\n",
      "             Sum Sq Mean Sq NumDF  DenDF F value Pr(>F)\n",
      "Run         1.56540 1.56540     1 26.062  1.8579 0.1845\n",
      "Session     0.10047 0.10047     1 17.871  0.1192 0.7339\n",
      "Run:Session 0.00476 0.00476     1 36.796  0.0056 0.9405\n",
      "[1] \"MLM for state: 8\"\n"
     ]
    },
    {
     "name": "stderr",
     "output_type": "stream",
     "text": [
      "boundary (singular) fit: see help('isSingular')\n",
      "\n"
     ]
    },
    {
     "name": "stdout",
     "output_type": "stream",
     "text": [
      "Type III Analysis of Variance Table with Satterthwaite's method\n",
      "            Sum Sq Mean Sq NumDF  DenDF F value   Pr(>F)   \n",
      "Run         0.0828  0.0828     1 22.476  0.1152 0.737495   \n",
      "Session     7.6307  7.6307     1 15.960 10.6135 0.004952 **\n",
      "Run:Session 0.0253  0.0253     1 37.397  0.0352 0.852142   \n",
      "---\n",
      "Signif. codes:  0 ‘***’ 0.001 ‘**’ 0.01 ‘*’ 0.05 ‘.’ 0.1 ‘ ’ 1\n"
     ]
    }
   ],
   "source": [
    "#Iterating over states\n",
    "\n",
    "for (i in 1:8) {\n",
    "    \n",
    "    s8_data_dt_state <- filter(s8_data_run12, State == i)\n",
    "    \n",
    "    print(paste(\"MLM for state:\", i))\n",
    "    s8_m_dt <- lmer(DT ~ Run*Session + (1+ Run + Session|Subject), data=s8_data_dt_state) #performing MLM analysis\n",
    "    s8_stats_dt <- anova(s8_m_dt)\n",
    "    print(s8_stats_dt)\n",
    "    \n",
    "    }"
   ]
  },
  {
   "cell_type": "code",
   "execution_count": 35,
   "id": "d19bc81d-fbf3-4eba-ae6f-c1e19dcba95f",
   "metadata": {},
   "outputs": [
    {
     "name": "stderr",
     "output_type": "stream",
     "text": [
      "NOTE: Results may be misleading due to involvement in interactions\n",
      "\n"
     ]
    },
    {
     "data": {
      "text/plain": [
       " Session emmean    SE   df lower.CL upper.CL\n",
       " LSD       5.19 0.186 12.7     4.79     5.59\n",
       " PLCB      4.45 0.228 13.0     3.96     4.94\n",
       "\n",
       "Results are averaged over the levels of: Run \n",
       "Degrees-of-freedom method: kenward-roger \n",
       "Confidence level used: 0.95 "
      ]
     },
     "metadata": {},
     "output_type": "display_data"
    },
    {
     "data": {
      "text/plain": [
       " contrast   estimate    SE   df t.ratio p.value\n",
       " LSD - PLCB    0.741 0.252 13.3   2.935  0.0114\n",
       "\n",
       "Results are averaged over the levels of: Run \n",
       "Degrees-of-freedom method: kenward-roger "
      ]
     },
     "metadata": {},
     "output_type": "display_data"
    }
   ],
   "source": [
    "#Post-hoc for state 2\n",
    "em_dt = emmeans(s8_m_dt, specs = pairwise ~ Session)\n",
    "em_dt$emmeans\n",
    "em_dt$contrasts"
   ]
  },
  {
   "cell_type": "code",
   "execution_count": 52,
   "id": "03e1b3d0-2dbb-4b8a-9481-2becf1e06e75",
   "metadata": {},
   "outputs": [
    {
     "name": "stderr",
     "output_type": "stream",
     "text": [
      "I bet you wanted to call this with just object[[1]] - use '[[]]' or which' if I'm wrong.\n",
      "See '? emm_list' for more information\n",
      "\n"
     ]
    },
    {
     "data": {
      "text/plain": [
       " contrast                      estimate    SE   df t.ratio p.value\n",
       " LSD run 1 - placebo run 1        0.422 0.353 24.2   1.195  0.2437\n",
       " LSD run 1 - LSD run 2            0.825 0.387 24.0   2.131  0.0435\n",
       " placebo run 1 - placebo run 2   -0.165 0.402 23.6  -0.410  0.6857\n",
       " LSD run 2 - placebo run 2       -0.568 0.402 24.8  -1.415  0.1696\n",
       "\n",
       "Degrees-of-freedom method: kenward-roger "
      ]
     },
     "metadata": {},
     "output_type": "display_data"
    }
   ],
   "source": [
    "#Post-hoc for state 4\n",
    "em_dt = emmeans(s8_m_dt, specs = pairwise ~ Session:Run)\n",
    "\n",
    "lsd_1 = c(1, 0, 0, 0)\n",
    "plcb_1 = c(0, 1, 0, 0)\n",
    "lsd_2 = c(0, 0, 1, 0)\n",
    "plcb_2 = c(0, 0, 0, 1)\n",
    "\n",
    "contrast(em_dt, method = list(\"LSD run 1 - placebo run 1\" = lsd_1 - plcb_1, \"LSD run 1 - LSD run 2\" = lsd_1 - lsd_2, \"placebo run 1 - placebo run 2\" = plcb_1 - plcb_2, \n",
    "                              \"LSD run 2 - placebo run 2\" = lsd_2 - plcb_2))"
   ]
  },
  {
   "cell_type": "code",
   "execution_count": 54,
   "id": "b87f125d-4c8d-4626-a740-152942928f54",
   "metadata": {},
   "outputs": [
    {
     "name": "stderr",
     "output_type": "stream",
     "text": [
      "NOTE: Results may be misleading due to involvement in interactions\n",
      "\n"
     ]
    },
    {
     "data": {
      "text/plain": [
       " Session emmean    SE   df lower.CL upper.CL\n",
       " LSD       4.45 0.168 13.0     4.08     4.81\n",
       " PLCB      5.33 0.206 13.5     4.89     5.77\n",
       "\n",
       "Results are averaged over the levels of: Run \n",
       "Degrees-of-freedom method: kenward-roger \n",
       "Confidence level used: 0.95 "
      ]
     },
     "metadata": {},
     "output_type": "display_data"
    },
    {
     "data": {
      "text/plain": [
       " contrast   estimate    SE   df t.ratio p.value\n",
       " LSD - PLCB   -0.884 0.274 13.5  -3.222  0.0064\n",
       "\n",
       "Results are averaged over the levels of: Run \n",
       "Degrees-of-freedom method: kenward-roger "
      ]
     },
     "metadata": {},
     "output_type": "display_data"
    }
   ],
   "source": [
    "#Post-hoc for state 8\n",
    "em_dt = emmeans(s8_m_dt, specs = pairwise ~ Session)\n",
    "em_dt$emmeans\n",
    "em_dt$contrasts"
   ]
  },
  {
   "cell_type": "markdown",
   "id": "9648651b-71eb-4635-acfe-620a71f066e2",
   "metadata": {},
   "source": [
    "--------------------"
   ]
  },
  {
   "cell_type": "markdown",
   "id": "86d52969-da9d-4a99-b29d-87ff7f9ce767",
   "metadata": {},
   "source": [
    "### **Resting-state before music listening vs. resting-state after music listening** ###"
   ]
  },
  {
   "cell_type": "code",
   "execution_count": 6,
   "id": "c788a2c4-ee10-429f-b7ea-e14b5295c254",
   "metadata": {},
   "outputs": [],
   "source": [
    "#Selecting data from run 1 & 3\n",
    "s8_data_run13 <- filter(data, Run != 2)"
   ]
  },
  {
   "cell_type": "markdown",
   "id": "4680004d-c6ea-4e18-bf09-e3bde65f5075",
   "metadata": {},
   "source": [
    "### Step 4: Performing analysis for fractional occupancy ###"
   ]
  },
  {
   "cell_type": "code",
   "execution_count": 82,
   "id": "39b495ee-c055-4220-bb81-cd9b92669de8",
   "metadata": {},
   "outputs": [
    {
     "name": "stdout",
     "output_type": "stream",
     "text": [
      "[1] \"MLM for state: 1\"\n"
     ]
    },
    {
     "name": "stderr",
     "output_type": "stream",
     "text": [
      "boundary (singular) fit: see help('isSingular')\n",
      "\n",
      "Warning message:\n",
      "“Model failed to converge with 1 negative eigenvalue: -1.3e+00”\n"
     ]
    },
    {
     "name": "stdout",
     "output_type": "stream",
     "text": [
      "Type III Analysis of Variance Table with Satterthwaite's method\n",
      "            Sum Sq Mean Sq NumDF  DenDF F value Pr(>F)\n",
      "Run         1.0834  1.0834     1 25.309  0.2706 0.6075\n",
      "Session     5.3927  5.3927     1 13.984  1.3467 0.2653\n",
      "Run:Session 0.1274  0.1274     1 27.997  0.0318 0.8597\n",
      "[1] \"MLM for state: 2\"\n"
     ]
    },
    {
     "name": "stderr",
     "output_type": "stream",
     "text": [
      "boundary (singular) fit: see help('isSingular')\n",
      "\n"
     ]
    },
    {
     "name": "stdout",
     "output_type": "stream",
     "text": [
      "Type III Analysis of Variance Table with Satterthwaite's method\n",
      "             Sum Sq Mean Sq NumDF  DenDF F value    Pr(>F)    \n",
      "Run           0.146   0.146     1 14.048  0.0174 0.8969798    \n",
      "Session     147.803 147.803     1 17.214 17.6172 0.0005905 ***\n",
      "Run:Session   0.227   0.227     1 28.000  0.0270 0.8706622    \n",
      "---\n",
      "Signif. codes:  0 ‘***’ 0.001 ‘**’ 0.01 ‘*’ 0.05 ‘.’ 0.1 ‘ ’ 1\n",
      "[1] \"MLM for state: 3\"\n",
      "Type III Analysis of Variance Table with Satterthwaite's method\n",
      "             Sum Sq Mean Sq NumDF  DenDF F value  Pr(>F)  \n",
      "Run          9.9328  9.9328     1 15.008  2.5973 0.12787  \n",
      "Session     26.5780 26.5780     1 14.068  6.9497 0.01949 *\n",
      "Run:Session  1.0229  1.0229     1 28.000  0.2675 0.60910  \n",
      "---\n",
      "Signif. codes:  0 ‘***’ 0.001 ‘**’ 0.01 ‘*’ 0.05 ‘.’ 0.1 ‘ ’ 1\n",
      "[1] \"MLM for state: 4\"\n",
      "Type III Analysis of Variance Table with Satterthwaite's method\n",
      "             Sum Sq Mean Sq NumDF DenDF F value  Pr(>F)  \n",
      "Run          6.5017  6.5017     1    14  1.4012 0.25624  \n",
      "Session     21.0387 21.0387     1    14  4.5340 0.05146 .\n",
      "Run:Session  0.1274  0.1274     1    14  0.0275 0.87075  \n",
      "---\n",
      "Signif. codes:  0 ‘***’ 0.001 ‘**’ 0.01 ‘*’ 0.05 ‘.’ 0.1 ‘ ’ 1\n",
      "[1] \"MLM for state: 5\"\n",
      "Type III Analysis of Variance Table with Satterthwaite's method\n",
      "             Sum Sq Mean Sq NumDF DenDF F value  Pr(>F)  \n",
      "Run         20.9271 20.9271     1    14  3.4333 0.08509 .\n",
      "Session      0.2211  0.2211     1    14  0.0363 0.85167  \n",
      "Run:Session  1.4158  1.4158     1    14  0.2323 0.63730  \n",
      "---\n",
      "Signif. codes:  0 ‘***’ 0.001 ‘**’ 0.01 ‘*’ 0.05 ‘.’ 0.1 ‘ ’ 1\n",
      "[1] \"MLM for state: 6\"\n"
     ]
    },
    {
     "name": "stderr",
     "output_type": "stream",
     "text": [
      "boundary (singular) fit: see help('isSingular')\n",
      "\n"
     ]
    },
    {
     "name": "stdout",
     "output_type": "stream",
     "text": [
      "Type III Analysis of Variance Table with Satterthwaite's method\n",
      "            Sum Sq Mean Sq NumDF  DenDF F value  Pr(>F)  \n",
      "Run          4.471   4.471     1 23.187  0.5826 0.45298  \n",
      "Session     59.514  59.514     1 16.577  7.7545 0.01293 *\n",
      "Run:Session 21.534  21.534     1 28.000  2.8058 0.10506  \n",
      "---\n",
      "Signif. codes:  0 ‘***’ 0.001 ‘**’ 0.01 ‘*’ 0.05 ‘.’ 0.1 ‘ ’ 1\n",
      "[1] \"MLM for state: 7\"\n",
      "Type III Analysis of Variance Table with Satterthwaite's method\n",
      "             Sum Sq Mean Sq NumDF  DenDF F value  Pr(>F)  \n",
      "Run          2.0674  2.0674     1 13.999  0.3415 0.56827  \n",
      "Session      1.0217  1.0217     1 14.000  0.1688 0.68744  \n",
      "Run:Session 30.6122 30.6122     1 13.999  5.0564 0.04116 *\n",
      "---\n",
      "Signif. codes:  0 ‘***’ 0.001 ‘**’ 0.01 ‘*’ 0.05 ‘.’ 0.1 ‘ ’ 1\n",
      "[1] \"MLM for state: 8\"\n",
      "Type III Analysis of Variance Table with Satterthwaite's method\n",
      "            Sum Sq Mean Sq NumDF DenDF F value   Pr(>F)   \n",
      "Run          3.910   3.910     1    14  1.0774 0.316866   \n",
      "Session     49.748  49.748     1    14 13.7093 0.002365 **\n",
      "Run:Session  2.393   2.393     1    14  0.6594 0.430379   \n",
      "---\n",
      "Signif. codes:  0 ‘***’ 0.001 ‘**’ 0.01 ‘*’ 0.05 ‘.’ 0.1 ‘ ’ 1\n"
     ]
    }
   ],
   "source": [
    "#Iterating over states\n",
    "\n",
    "for (i in 1:8) {\n",
    "    \n",
    "    s8_data_fo_state <- filter(s8_data_run13, State == i)\n",
    "    \n",
    "    print(paste(\"MLM for state:\", i))\n",
    "    s8_m_fo <- lmer(FO ~ Run*Session + (1 + Run + Session|Subject), data=s8_data_fo_state) #performing MLM analysis\n",
    "    s8_stats_fo <- anova(s8_m_fo)\n",
    "    print(s8_stats_fo)\n",
    "    \n",
    "    }"
   ]
  },
  {
   "cell_type": "code",
   "execution_count": 59,
   "id": "28a0f18c-2248-4cc4-b0b9-19814f35fd88",
   "metadata": {},
   "outputs": [
    {
     "name": "stderr",
     "output_type": "stream",
     "text": [
      "NOTE: Results may be misleading due to involvement in interactions\n",
      "\n"
     ]
    },
    {
     "data": {
      "text/plain": [
       " Session emmean    SE df lower.CL upper.CL\n",
       " LSD       15.4 0.679 14     13.9     16.8\n",
       " PLCB      12.0 0.551 14     10.8     13.1\n",
       "\n",
       "Results are averaged over the levels of: Run \n",
       "Degrees-of-freedom method: kenward-roger \n",
       "Confidence level used: 0.95 "
      ]
     },
     "metadata": {},
     "output_type": "display_data"
    },
    {
     "data": {
      "text/plain": [
       " contrast   estimate   SE df t.ratio p.value\n",
       " LSD - PLCB     3.44 0.82 14   4.197  0.0009\n",
       "\n",
       "Results are averaged over the levels of: Run \n",
       "Degrees-of-freedom method: kenward-roger "
      ]
     },
     "metadata": {},
     "output_type": "display_data"
    }
   ],
   "source": [
    "#Post-hoc for state 2\n",
    "em_fo = emmeans(s8_m_fo, specs = pairwise ~ Session)\n",
    "em_fo$emmeans\n",
    "em_fo$contrasts"
   ]
  },
  {
   "cell_type": "code",
   "execution_count": 61,
   "id": "dea3ff9e-b617-4e10-8d98-3171ec423de3",
   "metadata": {},
   "outputs": [
    {
     "name": "stderr",
     "output_type": "stream",
     "text": [
      "NOTE: Results may be misleading due to involvement in interactions\n",
      "\n"
     ]
    },
    {
     "data": {
      "text/plain": [
       " Session emmean    SE df lower.CL upper.CL\n",
       " LSD       14.8 0.796 14     13.1     16.5\n",
       " PLCB      12.8 0.647 14     11.4     14.2\n",
       "\n",
       "Results are averaged over the levels of: Run \n",
       "Degrees-of-freedom method: kenward-roger \n",
       "Confidence level used: 0.95 "
      ]
     },
     "metadata": {},
     "output_type": "display_data"
    },
    {
     "data": {
      "text/plain": [
       " contrast   estimate   SE df t.ratio p.value\n",
       " LSD - PLCB     1.95 0.74 14   2.636  0.0195\n",
       "\n",
       "Results are averaged over the levels of: Run \n",
       "Degrees-of-freedom method: kenward-roger "
      ]
     },
     "metadata": {},
     "output_type": "display_data"
    }
   ],
   "source": [
    "#Post-hoc for state 3\n",
    "em_fo = emmeans(s8_m_fo, specs = pairwise ~ Session)\n",
    "em_fo$emmeans\n",
    "em_fo$contrasts"
   ]
  },
  {
   "cell_type": "code",
   "execution_count": 78,
   "id": "fab28023-bc97-435c-a979-8fcdb25267c2",
   "metadata": {},
   "outputs": [
    {
     "name": "stderr",
     "output_type": "stream",
     "text": [
      "NOTE: Results may be misleading due to involvement in interactions\n",
      "\n"
     ]
    },
    {
     "data": {
      "text/plain": [
       " Session emmean    SE df lower.CL upper.CL\n",
       " LSD       9.49 0.635 14     8.13     10.9\n",
       " PLCB     11.83 0.666 14    10.40     13.3\n",
       "\n",
       "Results are averaged over the levels of: Run \n",
       "Degrees-of-freedom method: kenward-roger \n",
       "Confidence level used: 0.95 "
      ]
     },
     "metadata": {},
     "output_type": "display_data"
    },
    {
     "data": {
      "text/plain": [
       " contrast   estimate    SE df t.ratio p.value\n",
       " LSD - PLCB    -2.33 0.838 14  -2.785  0.0146\n",
       "\n",
       "Results are averaged over the levels of: Run \n",
       "Degrees-of-freedom method: kenward-roger "
      ]
     },
     "metadata": {},
     "output_type": "display_data"
    }
   ],
   "source": [
    "#Post-hoc for state 6\n",
    "em_fo = emmeans(s8_m_fo, specs = pairwise ~ Session)\n",
    "em_fo$emmeans\n",
    "em_fo$contrasts"
   ]
  },
  {
   "cell_type": "code",
   "execution_count": 81,
   "id": "c12eb4c5-0c5c-4ae8-b68b-41385243c783",
   "metadata": {},
   "outputs": [
    {
     "name": "stderr",
     "output_type": "stream",
     "text": [
      "I bet you wanted to call this with just object[[1]] - use '[[]]' or which' if I'm wrong.\n",
      "See '? emm_list' for more information\n",
      "\n"
     ]
    },
    {
     "data": {
      "text/plain": [
       " contrast                      estimate   SE   df t.ratio p.value\n",
       " LSD run 1 - placebo run 1        1.782 1.07 25.8   1.666  0.1077\n",
       " LSD run 1 - LSD run 2            0.922 1.08 25.7   0.857  0.3993\n",
       " placebo run 1 - placebo run 2   -1.935 1.08 25.7  -1.800  0.0836\n",
       " LSD run 2 - placebo run 2       -1.075 1.07 25.8  -1.006  0.3239\n",
       "\n",
       "Degrees-of-freedom method: kenward-roger "
      ]
     },
     "metadata": {},
     "output_type": "display_data"
    }
   ],
   "source": [
    "#Post-hoc for state 7\n",
    "em_fo = emmeans(s8_m_fo, specs = pairwise ~ Session:Run)\n",
    "\n",
    "lsd_1 = c(1, 0, 0, 0)\n",
    "plcb_1 = c(0, 1, 0, 0)\n",
    "lsd_2 = c(0, 0, 1, 0)\n",
    "plcb_2 = c(0, 0, 0, 1)\n",
    "\n",
    "contrast(em_fo, method = list(\"LSD run 1 - placebo run 1\" = lsd_1 - plcb_1, \"LSD run 1 - LSD run 2\" = lsd_1 - lsd_2, \"placebo run 1 - placebo run 2\" = plcb_1 - plcb_2, \n",
    "                              \"LSD run 2 - placebo run 2\" = lsd_2 - plcb_2))"
   ]
  },
  {
   "cell_type": "code",
   "execution_count": 83,
   "id": "9c3f72ea-9b01-4184-8526-7f6a17dcfd96",
   "metadata": {},
   "outputs": [
    {
     "name": "stderr",
     "output_type": "stream",
     "text": [
      "NOTE: Results may be misleading due to involvement in interactions\n",
      "\n"
     ]
    },
    {
     "data": {
      "text/plain": [
       " Session emmean    SE df lower.CL upper.CL\n",
       " LSD       9.77 0.553 14     8.58     11.0\n",
       " PLCB     12.60 0.694 14    11.11     14.1\n",
       "\n",
       "Results are averaged over the levels of: Run \n",
       "Degrees-of-freedom method: kenward-roger \n",
       "Confidence level used: 0.95 "
      ]
     },
     "metadata": {},
     "output_type": "display_data"
    },
    {
     "data": {
      "text/plain": [
       " contrast   estimate    SE df t.ratio p.value\n",
       " LSD - PLCB    -2.83 0.763 14  -3.703  0.0024\n",
       "\n",
       "Results are averaged over the levels of: Run \n",
       "Degrees-of-freedom method: kenward-roger "
      ]
     },
     "metadata": {},
     "output_type": "display_data"
    }
   ],
   "source": [
    "#Post-hoc for state 8\n",
    "em_fo = emmeans(s8_m_fo, specs = pairwise ~ Session)\n",
    "em_fo$emmeans\n",
    "em_fo$contrasts"
   ]
  },
  {
   "cell_type": "markdown",
   "id": "8979fb7d-82f9-44a2-b0ea-e7a104acd8ca",
   "metadata": {},
   "source": [
    "### Step 5: Performing analysis for dwell time ###"
   ]
  },
  {
   "cell_type": "code",
   "execution_count": 91,
   "id": "aeb1961c-b4f4-483d-9215-15da38d75bb5",
   "metadata": {},
   "outputs": [
    {
     "name": "stdout",
     "output_type": "stream",
     "text": [
      "[1] \"MLM for state: 1\"\n"
     ]
    },
    {
     "name": "stderr",
     "output_type": "stream",
     "text": [
      "boundary (singular) fit: see help('isSingular')\n",
      "\n"
     ]
    },
    {
     "name": "stdout",
     "output_type": "stream",
     "text": [
      "Type III Analysis of Variance Table with Satterthwaite's method\n",
      "             Sum Sq Mean Sq NumDF  DenDF F value Pr(>F)\n",
      "Run         0.36554 0.36554     1 39.048  0.4718 0.4962\n",
      "Session     0.84768 0.84768     1 42.000  1.0941 0.3015\n",
      "Run:Session 0.32285 0.32285     1 42.000  0.4167 0.5221\n",
      "[1] \"MLM for state: 2\"\n"
     ]
    },
    {
     "name": "stderr",
     "output_type": "stream",
     "text": [
      "boundary (singular) fit: see help('isSingular')\n",
      "\n"
     ]
    },
    {
     "name": "stdout",
     "output_type": "stream",
     "text": [
      "Type III Analysis of Variance Table with Satterthwaite's method\n",
      "            Sum Sq Mean Sq NumDF  DenDF F value   Pr(>F)   \n",
      "Run         0.0853  0.0853     1 34.167  0.1182 0.733063   \n",
      "Session     7.0694  7.0694     1 41.999  9.8018 0.003169 **\n",
      "Run:Session 0.0156  0.0156     1 41.999  0.0217 0.883611   \n",
      "---\n",
      "Signif. codes:  0 ‘***’ 0.001 ‘**’ 0.01 ‘*’ 0.05 ‘.’ 0.1 ‘ ’ 1\n",
      "[1] \"MLM for state: 3\"\n"
     ]
    },
    {
     "name": "stderr",
     "output_type": "stream",
     "text": [
      "boundary (singular) fit: see help('isSingular')\n",
      "\n"
     ]
    },
    {
     "name": "stdout",
     "output_type": "stream",
     "text": [
      "Type III Analysis of Variance Table with Satterthwaite's method\n",
      "             Sum Sq Mean Sq NumDF DenDF F value  Pr(>F)  \n",
      "Run         0.84345 0.84345     1 16.04  1.6616 0.21567  \n",
      "Session     2.58594 2.58594     1 42.00  5.0944 0.02926 *\n",
      "Run:Session 0.17030 0.17030     1 42.00  0.3355 0.56553  \n",
      "---\n",
      "Signif. codes:  0 ‘***’ 0.001 ‘**’ 0.01 ‘*’ 0.05 ‘.’ 0.1 ‘ ’ 1\n",
      "[1] \"MLM for state: 4\"\n",
      "Type III Analysis of Variance Table with Satterthwaite's method\n",
      "             Sum Sq Mean Sq NumDF DenDF F value Pr(>F)\n",
      "Run         0.00332 0.00332     1    14  0.0047 0.9465\n",
      "Session     0.47080 0.47080     1    28  0.6623 0.4226\n",
      "Run:Session 0.89565 0.89565     1    28  1.2599 0.2712\n",
      "[1] \"MLM for state: 5\"\n"
     ]
    },
    {
     "name": "stderr",
     "output_type": "stream",
     "text": [
      "boundary (singular) fit: see help('isSingular')\n",
      "\n"
     ]
    },
    {
     "name": "stdout",
     "output_type": "stream",
     "text": [
      "Type III Analysis of Variance Table with Satterthwaite's method\n",
      "            Sum Sq Mean Sq NumDF  DenDF F value  Pr(>F)  \n",
      "Run         3.7708  3.7708     1 22.255  5.4322 0.02922 *\n",
      "Session     0.0013  0.0013     1 42.000  0.0019 0.96583  \n",
      "Run:Session 0.0246  0.0246     1 42.000  0.0354 0.85166  \n",
      "---\n",
      "Signif. codes:  0 ‘***’ 0.001 ‘**’ 0.01 ‘*’ 0.05 ‘.’ 0.1 ‘ ’ 1\n",
      "[1] \"MLM for state: 6\"\n",
      "Type III Analysis of Variance Table with Satterthwaite's method\n",
      "             Sum Sq Mean Sq NumDF DenDF F value Pr(>F)\n",
      "Run         0.32370 0.32370     1    14  0.3475 0.5649\n",
      "Session     1.23515 1.23515     1    28  1.3261 0.2592\n",
      "Run:Session 0.12418 0.12418     1    28  0.1333 0.7178\n",
      "[1] \"MLM for state: 7\"\n",
      "Type III Analysis of Variance Table with Satterthwaite's method\n",
      "              Sum Sq  Mean Sq NumDF  DenDF F value Pr(>F)\n",
      "Run         0.002965 0.002965     1 14.001  0.0028 0.9586\n",
      "Session     0.000281 0.000281     1 28.010  0.0003 0.9871\n",
      "Run:Session 0.091119 0.091119     1 28.010  0.0859 0.7716\n",
      "[1] \"MLM for state: 8\"\n"
     ]
    },
    {
     "name": "stderr",
     "output_type": "stream",
     "text": [
      "boundary (singular) fit: see help('isSingular')\n",
      "\n",
      "Warning message:\n",
      "“Model failed to converge with 1 negative eigenvalue: -1.8e+01”\n"
     ]
    },
    {
     "name": "stdout",
     "output_type": "stream",
     "text": [
      "Type III Analysis of Variance Table with Satterthwaite's method\n",
      "            Sum Sq Mean Sq NumDF  DenDF F value  Pr(>F)  \n",
      "Run         0.0144  0.0144     1 36.168  0.0129 0.91031  \n",
      "Session     6.4020  6.4020     1 39.970  5.7334 0.02142 *\n",
      "Run:Session 1.1294  1.1294     1 39.970  1.0115 0.32060  \n",
      "---\n",
      "Signif. codes:  0 ‘***’ 0.001 ‘**’ 0.01 ‘*’ 0.05 ‘.’ 0.1 ‘ ’ 1\n"
     ]
    }
   ],
   "source": [
    "#Iterating over states\n",
    "\n",
    "for (i in 1:8) {\n",
    "    \n",
    "    s8_data_dt_state <- filter(s8_data_run13, State == i)\n",
    "    \n",
    "    print(paste(\"MLM for state:\", i))\n",
    "    s8_m_dt <- lmer(DT ~ Run*Session + (1 + Run|Subject), data=s8_data_dt_state) #performing MLM analysis\n",
    "    s8_stats_dt <- anova(s8_m_dt)\n",
    "    print(s8_stats_dt)\n",
    "    \n",
    "    }"
   ]
  },
  {
   "cell_type": "code",
   "execution_count": 86,
   "id": "ebd2fb19-0905-4243-bf7b-2fca982b3e5e",
   "metadata": {},
   "outputs": [
    {
     "name": "stderr",
     "output_type": "stream",
     "text": [
      "NOTE: Results may be misleading due to involvement in interactions\n",
      "\n"
     ]
    },
    {
     "data": {
      "text/plain": [
       " Session emmean    SE   df lower.CL upper.CL\n",
       " LSD       5.24 0.156 37.1     4.93     5.56\n",
       " PLCB      4.55 0.156 37.1     4.24     4.87\n",
       "\n",
       "Results are averaged over the levels of: Run \n",
       "Degrees-of-freedom method: kenward-roger \n",
       "Confidence level used: 0.95 "
      ]
     },
     "metadata": {},
     "output_type": "display_data"
    },
    {
     "data": {
      "text/plain": [
       " contrast   estimate    SE df t.ratio p.value\n",
       " LSD - PLCB    0.687 0.219 28   3.131  0.0041\n",
       "\n",
       "Results are averaged over the levels of: Run \n",
       "Degrees-of-freedom method: kenward-roger "
      ]
     },
     "metadata": {},
     "output_type": "display_data"
    }
   ],
   "source": [
    "#Post-hoc for state 2\n",
    "em_dt = emmeans(s8_m_dt, specs = pairwise ~ Session)\n",
    "em_dt$emmeans\n",
    "em_dt$contrasts"
   ]
  },
  {
   "cell_type": "code",
   "execution_count": 88,
   "id": "c9fe38fa-87fb-4fa8-bc50-131815c4a53a",
   "metadata": {},
   "outputs": [
    {
     "name": "stderr",
     "output_type": "stream",
     "text": [
      "NOTE: Results may be misleading due to involvement in interactions\n",
      "\n"
     ]
    },
    {
     "data": {
      "text/plain": [
       " Session emmean    SE   df lower.CL upper.CL\n",
       " LSD       5.02 0.173 25.2     4.66     5.37\n",
       " PLCB      4.60 0.173 25.2     4.24     4.96\n",
       "\n",
       "Results are averaged over the levels of: Run \n",
       "Degrees-of-freedom method: kenward-roger \n",
       "Confidence level used: 0.95 "
      ]
     },
     "metadata": {},
     "output_type": "display_data"
    },
    {
     "data": {
      "text/plain": [
       " contrast   estimate    SE df t.ratio p.value\n",
       " LSD - PLCB    0.415 0.184 28   2.257  0.0320\n",
       "\n",
       "Results are averaged over the levels of: Run \n",
       "Degrees-of-freedom method: kenward-roger "
      ]
     },
     "metadata": {},
     "output_type": "display_data"
    }
   ],
   "source": [
    "#Post-hoc for state 3\n",
    "em_dt = emmeans(s8_m_dt, specs = pairwise ~ Session)\n",
    "em_dt$emmeans\n",
    "em_dt$contrasts"
   ]
  },
  {
   "cell_type": "code",
   "execution_count": 90,
   "id": "02a6d088-8202-4a82-8409-3e92b9288e7e",
   "metadata": {},
   "outputs": [
    {
     "name": "stderr",
     "output_type": "stream",
     "text": [
      "NOTE: Results may be misleading due to involvement in interactions\n",
      "\n"
     ]
    },
    {
     "data": {
      "text/plain": [
       " Run emmean    SE df lower.CL upper.CL\n",
       " 1     5.26 0.172 14     4.89     5.63\n",
       " 3     5.81 0.237 14     5.31     6.32\n",
       "\n",
       "Results are averaged over the levels of: Session \n",
       "Degrees-of-freedom method: kenward-roger \n",
       "Confidence level used: 0.95 "
      ]
     },
     "metadata": {},
     "output_type": "display_data"
    },
    {
     "data": {
      "text/plain": [
       " contrast    estimate    SE df t.ratio p.value\n",
       " Run1 - Run3   -0.554 0.238 14  -2.331  0.0352\n",
       "\n",
       "Results are averaged over the levels of: Session \n",
       "Degrees-of-freedom method: kenward-roger "
      ]
     },
     "metadata": {},
     "output_type": "display_data"
    }
   ],
   "source": [
    "#Post-hoc for state 5\n",
    "em_dt = emmeans(s8_m_dt, specs = pairwise ~ Run)\n",
    "em_dt$emmeans\n",
    "em_dt$contrasts"
   ]
  },
  {
   "cell_type": "code",
   "execution_count": 92,
   "id": "26912fb5-a9cc-4e46-89b5-9a4f4f59cbd5",
   "metadata": {},
   "outputs": [
    {
     "name": "stderr",
     "output_type": "stream",
     "text": [
      "NOTE: Results may be misleading due to involvement in interactions\n",
      "\n"
     ]
    },
    {
     "data": {
      "text/plain": [
       " Session emmean    SE   df lower.CL upper.CL\n",
       " LSD       4.59 0.198 36.1     4.19     4.99\n",
       " PLCB      5.24 0.198 36.1     4.84     5.64\n",
       "\n",
       "Results are averaged over the levels of: Run \n",
       "Degrees-of-freedom method: kenward-roger \n",
       "Confidence level used: 0.95 "
      ]
     },
     "metadata": {},
     "output_type": "display_data"
    },
    {
     "data": {
      "text/plain": [
       " contrast   estimate    SE df t.ratio p.value\n",
       " LSD - PLCB   -0.653 0.273 28  -2.394  0.0236\n",
       "\n",
       "Results are averaged over the levels of: Run \n",
       "Degrees-of-freedom method: kenward-roger "
      ]
     },
     "metadata": {},
     "output_type": "display_data"
    }
   ],
   "source": [
    "#Post-hoc for state 8\n",
    "em_dt = emmeans(s8_m_dt, specs = pairwise ~ Session)\n",
    "em_dt$emmeans\n",
    "em_dt$contrasts"
   ]
  },
  {
   "cell_type": "markdown",
   "id": "58909e61-0b9d-4696-b5b5-41e85ca4ae66",
   "metadata": {},
   "source": [
    "### Step 5: Plotting the results ###"
   ]
  },
  {
   "cell_type": "code",
   "execution_count": 93,
   "id": "79171b95-c1cb-463f-a1f7-0bbad277452a",
   "metadata": {},
   "outputs": [
    {
     "name": "stderr",
     "output_type": "stream",
     "text": [
      "Loading required package: lattice\n",
      "\n",
      "Loading required package: survival\n",
      "\n",
      "Loading required package: Formula\n",
      "\n",
      "\n",
      "Attaching package: ‘Hmisc’\n",
      "\n",
      "\n",
      "The following object is masked from ‘package:sjmisc’:\n",
      "\n",
      "    %nin%\n",
      "\n",
      "\n",
      "The following objects are masked from ‘package:dplyr’:\n",
      "\n",
      "    src, summarize\n",
      "\n",
      "\n",
      "The following objects are masked from ‘package:base’:\n",
      "\n",
      "    format.pval, units\n",
      "\n",
      "\n"
     ]
    }
   ],
   "source": [
    "library(Hmisc)"
   ]
  },
  {
   "cell_type": "code",
   "execution_count": 3,
   "id": "af151206-87e0-4415-bca0-7d47cfd7c4d1",
   "metadata": {},
   "outputs": [],
   "source": [
    "# Customizing theme for plotting\n",
    "theme_training <- theme_bw() + theme(axis.text.y = element_text(size=18, colour='#262626ff', margin = margin(t = 0, r = 2, b = 0, l = 16)),\n",
    "          axis.text.x = element_text(size=18, colour='#262626ff', margin = margin(t = 2, r =0, b = 16, l = 0)),\n",
    "          axis.title.y = element_text(size=20, colour='#262626ff'),\n",
    "          axis.title.x  = element_text(size=20, colour='#262626ff'),\n",
    "          plot.title = element_text(hjust=0.5, size=25),\n",
    "          panel.grid.major = element_blank(), \n",
    "          panel.grid.minor = element_blank(),\n",
    "          axis.line = element_line(colour=\"#262626ff\"),\n",
    "          panel.border = element_rect(colour = \"#262626ff\", fill=NA, size=1.5),\n",
    "          #panel.background = element_rect(fill=\"transparent\",colour=NA),\n",
    "          #plot.background = element_rect(fill=\"transparent\",colour=NA),\n",
    "          legend.key = element_rect(fill= \"transparent\", colour=\"transparent\"),\n",
    "          legend.key.size = unit(0.7, 'cm'),\n",
    "          legend.key.height = unit(0.7, 'cm'),\n",
    "          legend.key.width = unit(1.5, 'cm'),\n",
    "          legend.title = element_text(size=13),\n",
    "          legend.text = element_text(size=11),\n",
    "          strip.background =element_rect(fill=\"transparent\", colour=NA),\n",
    "          strip.text = element_text(size=20),\n",
    "          axis.ticks = element_line(colour=\"#262626ff\", size=1, 2),\n",
    "          axis.ticks.length = unit(.20, \"cm\"),\n",
    "          aspect.ratio = 1.5,\n",
    "          )"
   ]
  },
  {
   "cell_type": "markdown",
   "id": "60943f39-dd69-4f88-b3dd-a0253142a6e0",
   "metadata": {},
   "source": [
    "#### **Plotting the results for resting-state vs. music listening** ####"
   ]
  },
  {
   "cell_type": "markdown",
   "id": "fe4b1f23-b1a8-429d-88c4-fd4328c97479",
   "metadata": {},
   "source": [
    "#### Step 5.1: Plotting the results for fractional occupancy ####"
   ]
  },
  {
   "cell_type": "code",
   "execution_count": 4,
   "id": "f0c68e8f-7c34-4fe3-b256-ad477248ccbe",
   "metadata": {},
   "outputs": [],
   "source": [
    "#Settings\n",
    "options(repr.plot.width = 17, repr.plot.height = 4)\n",
    "state.names <- c(\"State 1\", \"State 2\", \"State 3\", \"State 4\", \"State 5\", \"State 6\", \"State 7\", \"State 8\")\n",
    "names(state.names) <- c(\"1\", \"2\", \"3\", \"4\", \"5\", \"6\", \"7\", \"8\")"
   ]
  },
  {
   "cell_type": "code",
   "execution_count": 8,
   "id": "d6bc7e32-d0db-4b5f-8187-7cf3c0429657",
   "metadata": {},
   "outputs": [
    {
     "data": {
      "image/png": "[encoded data removed]",
      "text/plain": [
       "plot without title"
      ]
     },
     "metadata": {
      "image/png": {
       "height": 240,
       "width": 1020
      }
     },
     "output_type": "display_data"
    }
   ],
   "source": [
    "s8_fo_1vs2 <- ggplot(s8_data_run12, aes(x = Run, y = FO, col = Session)) +\n",
    "            stat_summary(fun = \"mean\", geom = 'point', size = 3.5) +\n",
    "            stat_summary(fun = \"mean\", geom = 'line', size = 1.5, aes(group = Session)) +\n",
    "            stat_summary(fun.data = \"mean_cl_normal\", geom = 'errorbar', width = 0.2, size = 0.5) +\n",
    "            ylab(\"Fractional occupancy (%)\") +\n",
    "            scale_colour_manual(values=c('#379dbc','#ee8c00')) +\n",
    "            theme_training +\n",
    "            theme(legend.position = \"right\") +\n",
    "            xlab('Run') +  \n",
    "            theme(panel.spacing.x = unit(1, \"lines\")) +\n",
    "            facet_grid(~State,  labeller = labeller(State = state.names)) +\n",
    "            scale_x_discrete(labels=c(\"1\" = \"Rest\", \"2\" = \"Music\"))\n",
    "print(s8_fo_1vs2)"
   ]
  },
  {
   "cell_type": "code",
   "execution_count": 9,
   "id": "7d343f3f-8051-4c20-bec9-160428ddfdb0",
   "metadata": {},
   "outputs": [],
   "source": [
    "#Saving the plot\n",
    "ggsave(\"Figures/8_states/fo_1vs2.jpg\", width = 17, height = 4)"
   ]
  },
  {
   "cell_type": "markdown",
   "id": "2b9ff4db-316d-4efb-8cc2-2ac08cce7864",
   "metadata": {},
   "source": [
    "#### Step 5.2: Plotting the results for dwell time ####"
   ]
  },
  {
   "cell_type": "code",
   "execution_count": 10,
   "id": "50285518-984e-412d-924b-6a8286715323",
   "metadata": {},
   "outputs": [
    {
     "data": {
      "image/png": "[encoded data removed]",
      "text/plain": [
       "plot without title"
      ]
     },
     "metadata": {
      "image/png": {
       "height": 240,
       "width": 1020
      }
     },
     "output_type": "display_data"
    }
   ],
   "source": [
    "s8_dt_1vs2 <- ggplot(s8_data_run12, aes(x = Run, y = DT, col = Session)) +\n",
    "            stat_summary(fun = \"mean\", geom = 'point', size = 3.5) +\n",
    "            stat_summary(fun = \"mean\", geom = 'line', size = 1.5, aes(group = Session)) +\n",
    "            stat_summary(fun.data = \"mean_cl_normal\", geom = 'errorbar', width = 0.2, size = 0.5) +\n",
    "            ylab(\"Dwell time (s)\") +\n",
    "            scale_colour_manual(values=c('#379dbc','#ee8c00')) +\n",
    "            theme_training +\n",
    "            theme(legend.position = \"right\") +\n",
    "            xlab('Run') +  \n",
    "            theme(panel.spacing.x = unit(1, \"lines\")) +\n",
    "            facet_grid(~State, labeller = labeller(State = state.names)) +\n",
    "            scale_x_discrete(labels=c(\"1\" = \"Rest\", \"2\" = \"Music\"))\n",
    "print(s8_dt_1vs2)"
   ]
  },
  {
   "cell_type": "code",
   "execution_count": 11,
   "id": "ecc0b13d-b319-4440-8cc1-62565ea5b145",
   "metadata": {},
   "outputs": [],
   "source": [
    "#Saving the plot\n",
    "ggsave(\"Figures/8_states/dt_1vs2.jpg\", width = 17, height = 4)"
   ]
  },
  {
   "cell_type": "markdown",
   "id": "89e76a9d-1f78-4ccc-856e-a2b4a3c4e228",
   "metadata": {},
   "source": [
    "#### **Plotting the results for resting-state before music listening vs. resting-state after music listening** ####"
   ]
  },
  {
   "cell_type": "markdown",
   "id": "7300c565-90c8-4d91-b1c0-23920d0d6d86",
   "metadata": {},
   "source": [
    "#### Step 5.3: Plotting the results for fractional occupancy ####"
   ]
  },
  {
   "cell_type": "code",
   "execution_count": 14,
   "id": "4579c0a6-4fbf-4459-9a4b-2ce92c14d4ac",
   "metadata": {},
   "outputs": [
    {
     "data": {
      "image/png": "[encoded data removed]",
      "text/plain": [
       "plot without title"
      ]
     },
     "metadata": {
      "image/png": {
       "height": 240,
       "width": 1020
      }
     },
     "output_type": "display_data"
    }
   ],
   "source": [
    "s8_fo_1vs3 <- ggplot(s8_data_run13, aes(x = Run, y = FO, col = Session)) +\n",
    "            stat_summary(fun = \"mean\", geom = 'point', size = 3.5) +\n",
    "            stat_summary(fun = \"mean\", geom = 'line', size = 1.5, aes(group = Session)) +\n",
    "            stat_summary(fun.data = \"mean_cl_normal\", geom = 'errorbar', width = 0.2, size = 0.5) +\n",
    "            ylab(\"Fractional occupancy (%)\") +\n",
    "            scale_colour_manual(values=c('#379dbc','#ee8c00')) +\n",
    "            theme_training +\n",
    "            theme(legend.position = \"right\") +\n",
    "            xlab('Run') +  \n",
    "            theme(panel.spacing.x = unit(1, \"lines\")) +\n",
    "            facet_grid(~State, labeller = labeller(State = state.names)) +\n",
    "            scale_x_discrete(labels=c(\"1\" = \"Rest 1\", \"3\" = \"Rest 2\"))\n",
    "print(s8_fo_1vs3)"
   ]
  },
  {
   "cell_type": "code",
   "execution_count": 15,
   "id": "ce9536c5-007e-4955-8fa5-cbcdb64074ea",
   "metadata": {},
   "outputs": [],
   "source": [
    "#Saving the plot\n",
    "ggsave(\"Figures/8_states/fo_1vs3.jpg\", width = 17, height = 4)"
   ]
  },
  {
   "cell_type": "markdown",
   "id": "586dfe49-9782-4884-a7f0-92104ade75a0",
   "metadata": {},
   "source": [
    "#### Step 5.4: Plotting the results for dwell time ####"
   ]
  },
  {
   "cell_type": "code",
   "execution_count": 12,
   "id": "6c05fcb1-d76e-4d5d-b467-fa61fff5acc9",
   "metadata": {},
   "outputs": [
    {
     "data": {
      "image/png": "[encoded data removed]",
      "text/plain": [
       "plot without title"
      ]
     },
     "metadata": {
      "image/png": {
       "height": 240,
       "width": 1020
      }
     },
     "output_type": "display_data"
    }
   ],
   "source": [
    "s8_dt_1vs3 <- ggplot(s8_data_run13, aes(x = Run, y = DT, col = Session)) +\n",
    "            stat_summary(fun = \"mean\", geom = 'point', size = 3.5) +\n",
    "            stat_summary(fun = \"mean\", geom = 'line', size = 1.5, aes(group = Session)) +\n",
    "            stat_summary(fun.data = \"mean_cl_normal\", geom = 'errorbar', width = 0.2, size = 0.5) +\n",
    "            ylab(\"Dwell time (s)\") +\n",
    "            scale_colour_manual(values=c('#379dbc','#ee8c00')) +\n",
    "            theme_training +\n",
    "            theme(legend.position = \"right\") +\n",
    "            xlab('Run') +  \n",
    "            theme(panel.spacing.x = unit(1, \"lines\")) +\n",
    "            facet_grid(~State, labeller = labeller(State = state.names)) +\n",
    "            scale_x_discrete(labels=c(\"1\" = \"Rest 1\", \"3\" = \"Rest 2\"))\n",
    "print(s8_dt_1vs3)"
   ]
  },
  {
   "cell_type": "code",
   "execution_count": 13,
   "id": "eebd81dd-4b97-40b2-a300-7d1b06ba18cd",
   "metadata": {},
   "outputs": [],
   "source": [
    "#Saving the plot\n",
    "ggsave(\"Figures/8_states/dt_1vs3.jpg\", width = 17, height = 4)"
   ]
  },
  {
   "cell_type": "code",
   "execution_count": null,
   "id": "5ecaf8fe-1d62-47de-be2c-d6e3f91c131a",
   "metadata": {},
   "outputs": [],
   "source": []
  }
 ],
 "metadata": {
  "kernelspec": {
   "display_name": "R",
   "language": "R",
   "name": "ir"
  },
  "language_info": {
   "codemirror_mode": "r",
   "file_extension": ".r",
   "mimetype": "text/x-r-source",
   "name": "R",
   "pygments_lexer": "r",
   "version": "4.2.0"
  }
 },
 "nbformat": 4,
 "nbformat_minor": 5
}
